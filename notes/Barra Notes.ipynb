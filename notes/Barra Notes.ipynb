{
 "cells": [
  {
   "cell_type": "markdown",
   "metadata": {},
   "source": [
    "# USE4 Methodology Notes\n",
    "\n",
    "## 1. Introduction\n",
    "\n",
    "### 1.3 Forecasting Portfolio Risk with Factor Models\n",
    "- Key Assumptions\n",
    "    1.\tthe factor returns are uncorrelated with the specific return\n",
    "    2.\tthe specific returns are uncorrelated among themselves \n",
    "- Notations\n",
    "    - stock return $r_n$ explained as $$r_n = \\sum_k{X_{nk}f_k} + u_n$$ \n",
    "    - $X_{nk}$ is the exposure of stock $n$ to factor $k$\n",
    "    - $f_k$ is the return to the factor \n",
    "    - $u_k$ is the stock specific return\n",
    "\n",
    "\n",
    "## 2. Factor Exposures\n",
    "\n",
    "### 2.1 General Considerations\n",
    "- Factor capture _all systematic drivers_ of asset returns, thus implying that the specific returns are mutually uncorrelated.\n",
    "- __Parsimony__(简约）：meaning that the systematic component of asset returns is explained with the fewest possible number of factors \n",
    "- __Statistical significance__ of the factor returns\n",
    "- __Stability__: typical stock exposures do not change drastically over short periods of time, which can be problematic from a risk management perspective. _factor stability coefficient_ above 0.90 are considered desirable, which defined as  \n",
    "$$ \\rho_{kt} = \\frac{\\sum_n{v_n^t (X_{nk}^t - \\bar{X_k^t})(X_{nk}^{t+1} - \\bar{X_k^{t+1}})}} {\\sqrt{\\sum_n{v_n^t(X_{nk}^t -\\bar{X_k^t})^2}}\\sqrt{\\sum_n{v_n^t(X_{nk}^{t+1} - \\bar{X_k^{t+1}})^2}}} $$  \n",
    "    where $v_n^t$ regression weight of stock $n$ at time $t$\n",
    "- __Limited Collinearity__ measured by the _Variance Inflation Factor_(VIF), which defined as $$ VIF_k = \\frac{1}{1-R_k^2} $$\n",
    "    where $R_k^2$ is the _R-Squared_ of the regression $$ X_{nk} = \\sum_{k' \\neq k}{X_{nk'}b_{k'}} + \\varepsilon_{nk},$$ collinearity can be reduced by factor rotation procedure known as orthogonalization.\n",
    "\n",
    "### 2.2 Data Quality and Outlier Treatment\n",
    "- Outlier algorithm: Three types of data and their treatements:\n",
    "    1. __Extreme Values__ treated as potential data errors: removed from the estimation process\n",
    "    2. __Legitimate(治理的）but large nonetheless__: trim to three standard deviations from the mean\n",
    "    3. Forming the bulk of the distribution(consists of values that areless than three standard deviations from the mean): left unadjusted.\n",
    "- Missing: data-replacement algorithm\n",
    "    - Regress non-missing exposures against a subset of factors with the slope coefficients being used to estimate the factor exposures for the stock with missing data.\n",
    "    - Notice the algorithm is applied at __the factor level__ as opposed to the descriptor level, only if all descriptors are absent does the replacement algorithm become active.\n",
    "    \n",
    "### 2.2 Data Quality and Outlier Treatment\n",
    "Outlier algorithm: Three types of data and their treatements:\n",
    "1. __Extreme Values__ treated as potential data errors: removed from the estimation process\n",
    "2. __Legitimate(合理的）but large nonetheless__: trim to three standard deviations from the mean\n",
    "3.\tForming the bulk of the distribution(consists of values that areless than three standard deviations from the mean): left unadjusted.\n",
    "    - Missing: data-replacement algorithm\n",
    "    - Regress non-missing exposures against a subset of factors with the slope coefficients being used to estimate the factor exposures for the stock with missing data.\n",
    "    - Notice the algorithm is applied at __the factor level__ as opposed to the descriptor level, only if all descriptors are absent does the replacement algorithm become active.\n",
    "\n",
    "### 2.3 Style Exposures\n",
    "- Descriptors represent financially intuitive stock attributes and serve as effective predictors of equity return covariance. A Descriptor $d_{nl}$ is standardized as $$d_{nl}= \\frac{d_{nl}^{Raw} - \\mu_l}{\\sigma_l}$$\n",
    "- $d_{nl}^{Raw}$ : the raw value of stock $n$ for descriptor $l$\n",
    "- $\\mu_l$ : the cap-weighted mean of the descriptor(within the estimation universe)\n",
    "- $\\sigma_l$ : the equal-weighted standard deviation(prevent large-cap stocks from having an undue influence on the overall scale of the exposures)\n",
    "\n",
    "### 2.4 Industry Factors\n",
    "- Using a single level of the GICS hierarchy will fail to capture the unique characteristics of each financial market. \n",
    "- Basic criteria to guide industry factor selection\n",
    "    1.\teconomically intuitive\n",
    "    2.\tindustry factors should have a strong degree of statistical significance\n",
    "    3.\tincorporating an additional industry factor should significantly increase the explanatory power of the model\n",
    "    4.\tthin industries (those with few assets) should be avoided\n",
    "    \n",
    "### 2.5 Multiple-Industry Exposures\n",
    "- Modeled in USE4 by examining the impact of two key explanatory variables, __Assets__ and __Sales__, on the market value of a given stock.  \n",
    "$$ X_{nk} = 0.75 \\cdot X_{nk}^A +0.25 \\cdot X_{nk}^S $$\n",
    "- Assets exposures $X_{nk}^A$ defined as  \n",
    "$$ X_{nk}^A = \\frac{A_{nk}\\beta_k^A}{\\sum_k{A_{nk}\\beta_k^A}} \\in (0,1) $$  \n",
    "where $A_{nk}$ and $\\beta_k^A$ calculate by regression  \n",
    "$$ M_n = \\sum_k{A_{nk}\\beta_k^A} + \\varepsilon_n $$\n",
    "    - $M_n$ is the market capitalization of stock $n$\n",
    "    - $A_{nk}$ is the asset of the stock within industry $k$\n",
    "    - $\\beta_k^A$ is the industry beta, which can be interpreted as the price-to-assets ratio of the industry\n",
    "    - $\\varepsilon_n$ is the residual and $\\sum_k{A_{nk}\\beta_k^A}=1$\n",
    "- Parsimony Requirement: The maximum allowable number of multiple-industry exposures is limited to five. If a firm has more than five business segments, the top five are taken and the industry exposures are re-normalized to 1.\n"
   ]
  },
  {
   "cell_type": "markdown",
   "source": [
    "## 3. Factor Returns\n",
    "- Local __excess__ returns $r_n$ are explained by  \n",
    "$$ r_n = f_c +\\sum_i{X_{ni}f_i} + \\sum_s{X_{ns}f_s} + u_n \\\\ \\text{s.t.} \\sum_i{w_i f_i} = 0 $$  \n",
    "with weighted least-squares regression where\n",
    "    - $f_c$: the return of the country factor\n",
    "    - $f_i$: the return of industry factor $i$\n",
    "    - $f_s$: the return of style factor $s$\n",
    "    - $u_n$: the specific return\n",
    "- assuming that the variance of specific returns is inversely proportional to the _square root of total market capitalization_, reflects the empirical observation that the idiosyncratic risk of a stock decreases as the market capitalization of the firm increases.\n",
    "- the constrain $\\sum_i{w_i f_i} = 0$ aviod collinearity, $w_i$ is the capitalization weight of the estimation universe in industry $i$.\n",
    "\n",
    "### 3.1 Country Factor\n",
    "- Explicit Inclusion of the Country Factor beneficial in two ways:\n",
    "    1.\tdisentangles(分开）the market effect from the pure industry effect\n",
    "    2.\tmore accurate risk forecasts and more responsive correlations\n",
    "- The country factor essentially represents the cap-weighted estimation universe  \n",
    "$$ R_E = f_c + \\sum_i{w_i f_i} + \\sum_s{X_s^E f_s} + \\sum_n{h_n^E u_n} \\approx f_c $$  \n",
    "Cumulative returns of the USE4 Country factor and the USE4 estimation universe (in excess of risk-free rate).The two portfolios track each other veryclosely over the 16-year sample window, with a time-series correlation of 99.9 percent.(see _USE4 MethodoLogy Figure 3.1_)"
   ],
   "metadata": {
    "collapsed": false,
    "pycharm": {
     "name": "#%% md\n"
    }
   }
  },
  {
   "cell_type": "markdown",
   "source": [
    "## 4. Factor Covariance Matrix \n",
    "\n",
    "### 4.1 Established Methods - GEM2\n",
    "The USE4 factor covariance matrix builds upon methodologies used in the Barra Global Equity Model, GEM2, as described by Henchero, Morozov, and Shepard(2008).\n",
    "\n",
    "1. Factor Correlation Matrix\n",
    "    - Exponentially weighted averages with half-life $\\tau_{\\rho}^F$, an effective method for dealing with data non-stationarity.\n",
    "        - $\\tau_{\\rho}^F$ must be sufficiently long(effective number of observations $T$ is significantly greater than the number of factors $K$) in case of spuriously low factor risk.\n",
    "        - If the $\\tau_{\\rho}^F$ is too long, then undue weight is placed on distant observations that have little relation to current market conditions.\n",
    "    - __Prediction Horizon__ : 1 month\n",
    "    - Serial-Correlation Effects: __Newey-West__ methodology(1987). Key parameter in Newey-West is the number of lags $L_{\\rho}^F$ over which the serial correlation is deemed important.(假设单期的因子收益率 $F_t$ 满足一个 $L_{\\rho}^F$ 阶的序列相关性，即 $F_t$ 可以用 MA($L_{\\rho}^F$) 来刻画 [[石川: 协方差矩阵的 Newey-West 调整]][1] )\n",
    "    - Correlation matrix for the case of missing factor returns: __EM algorithm__\n",
    "    The EM algorithm also refines(改善) the correlation forcasts while ensuring positive semi-definite(半正定) matrix.\n",
    "2. Factor Volatilities: Exponentially weighted averages + Newey-West approach.\n",
    "    - In general, the volatility half-life can be made considerably shorter than the correlation half-life.\n",
    "3. Construct the initial covariance matrix by scaling in the factor volatilities.\n",
    "    - Covariance between factors $i$ and $j$ is given by $$F_{ij}^0 = \\rho_{ij}\\sigma_i\\sigma_j$$\n",
    "![BARRA_USE4_METHOD_P19_TABEL4_1](./barra_use4_table4_1.png)\n",
    "\n",
    "### 4.2 Eigenfactor(特征值) Risk Adjustment\n",
    "> Menchero, J., J. Wang, and D. J. Orr (2011). Eigen-adjusted Covariance Matrices. MSCI Research Insight.\n",
    "\n",
    "- Shepard(2009) derived an analytic result for the magnitude of the bias. Under assumptions of normality and stationarity (and massive asset $K$), he found with $K$ factors and $T$ effective number of observations,\n",
    "    $$\\sigma_{true} \\approx \\frac{\\sigma_{pred}}{1-(K/T)} $$\n",
    "\n",
    "[1]: https://zhuanlan.zhihu.com/p/38506157"
   ],
   "metadata": {
    "collapsed": false
   }
  },
  {
   "cell_type": "markdown",
   "metadata": {},
   "source": [
    "- https://github.com/ShiliangZhang-nku/Barra_CNE6\n",
    "- https://zhuanlan.zhihu.com/p/73794358"
   ]
  },
  {
   "cell_type": "code",
   "execution_count": null,
   "metadata": {},
   "outputs": [],
   "source": []
  }
 ],
 "metadata": {
  "kernelspec": {
   "display_name": "Python 3",
   "language": "python",
   "name": "python3"
  },
  "language_info": {
   "codemirror_mode": {
    "name": "ipython",
    "version": 3
   },
   "file_extension": ".py",
   "mimetype": "text/x-python",
   "name": "python",
   "nbconvert_exporter": "python",
   "pygments_lexer": "ipython3",
   "version": "3.7.3"
  },
  "pycharm": {
   "stem_cell": {
    "cell_type": "raw",
    "source": [],
    "metadata": {
     "collapsed": false
    }
   }
  }
 },
 "nbformat": 4,
 "nbformat_minor": 2
}